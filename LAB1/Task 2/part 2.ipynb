{
 "cells": [
  {
   "cell_type": "code",
   "execution_count": 2,
   "id": "b1f2f1eb",
   "metadata": {},
   "outputs": [
    {
     "name": "stdout",
     "output_type": "stream",
     "text": [
      "Enter a number: 10\n",
      "The 10 th fibonacci number is 55.\n"
     ]
    }
   ],
   "source": [
    "def fibonacci_1(n):\n",
    "    if n < 0:\n",
    "        print(\"Invalid input!\")\n",
    "    elif n <= 1:\n",
    "        return n\n",
    "    else:\n",
    "        return fibonacci_1(n-1)+fibonacci_1(n-2)\n",
    "n = int(input(\"Enter a number: \"))\n",
    "nth_fib = fibonacci_1(n)\n",
    "print(\"The {} th fibonacci number is {}.\".format(n, nth_fib))"
   ]
  },
  {
   "cell_type": "code",
   "execution_count": 3,
   "id": "d23318ba",
   "metadata": {},
   "outputs": [
    {
     "name": "stdout",
     "output_type": "stream",
     "text": [
      "Enter a number: 12\n",
      "The 12 th fibonacci number is 144.\n"
     ]
    }
   ],
   "source": [
    "def fibonacci_2(n):\n",
    "    if n<0:\n",
    "        return \"Invalid Input\"\n",
    "    if n<=1:\n",
    "        return n\n",
    "    fib = [0] * (n+1)\n",
    "    fib[0] = 0\n",
    "    fib[1] = 1\n",
    "    for i in range(2,n+1):\n",
    "        fib[i] = fib[i-1] + fib[i-2]\n",
    "    return fib[n]\n",
    "n = int(input(\"Enter a number: \"))\n",
    "nth_fib = fibonacci_2(n)\n",
    "print(\"The {} th fibonacci number is {}.\".format(n, nth_fib))"
   ]
  },
  {
   "cell_type": "code",
   "execution_count": 5,
   "id": "2951499a",
   "metadata": {},
   "outputs": [
    {
     "data": {
      "image/png": "[encoded data removed]",
      "text/plain": [
       "<Figure size 432x288 with 1 Axes>"
      ]
     },
     "metadata": {
      "needs_background": "light"
     },
     "output_type": "display_data"
    }
   ],
   "source": [
    "import time\n",
    "import math\n",
    "import matplotlib.pyplot as plt\n",
    "import numpy as np\n",
    "#change the value of n for your own experimentation\n",
    "n = 40\n",
    "x = [i for i in range(n)]\n",
    "y = [0 for i in range(n)]\n",
    "z = [0 for i in range(n)]\n",
    "for i in range(n-1):\n",
    "    start = time.time()\n",
    "    fibonacci_1(x[i+1])\n",
    "    y[i+1]= time.time()-start\n",
    "    start = time.time()\n",
    "    fibonacci_2(x[i+1])\n",
    "    z[i+1]= time.time()-start\n",
    "x_interval = math.ceil(n/10)\n",
    "plt.plot(x, y, 'r')\n",
    "plt.plot(x, z, 'b')\n",
    "plt.xticks(np.arange(min(x), max(x)+1, x_interval))\n",
    "plt.xlabel('n-th position')\n",
    "plt.ylabel('time')\n",
    "plt.title('Comparing Time Complexity!')\n",
    "plt.show()"
   ]
  },
  {
   "cell_type": "code",
   "execution_count": null,
   "id": "965aaa3f",
   "metadata": {},
   "outputs": [],
   "source": []
  }
 ],
 "metadata": {
  "kernelspec": {
   "display_name": "Python 3 (ipykernel)",
   "language": "python",
   "name": "python3"
  },
  "language_info": {
   "codemirror_mode": {
    "name": "ipython",
    "version": 3
   },
   "file_extension": ".py",
   "mimetype": "text/x-python",
   "name": "python",
   "nbconvert_exporter": "python",
   "pygments_lexer": "ipython3",
   "version": "3.9.7"
  }
 },
 "nbformat": 4,
 "nbformat_minor": 5
}
